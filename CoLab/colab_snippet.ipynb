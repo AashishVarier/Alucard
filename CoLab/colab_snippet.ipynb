{
  "nbformat": 4,
  "nbformat_minor": 0,
  "metadata": {
    "colab": {
      "name": "colab snippet",
      "version": "0.3.2",
      "provenance": [],
      "include_colab_link": true
    },
    "kernelspec": {
      "name": "python3",
      "display_name": "Python 3"
    }
  },
  "cells": [
    {
      "cell_type": "markdown",
      "metadata": {
        "id": "view-in-github",
        "colab_type": "text"
      },
      "source": [
        "<a href=\"https://colab.research.google.com/github/AshishVarier/Alucard/blob/master/colab_snippet.ipynb\" target=\"_parent\"><img src=\"https://colab.research.google.com/assets/colab-badge.svg\" alt=\"Open In Colab\"/></a>"
      ]
    },
    {
      "metadata": {
        "id": "llJSit5fMQZk",
        "colab_type": "text"
      },
      "cell_type": "markdown",
      "source": [
        "***Mount Gdrive***"
      ]
    },
    {
      "metadata": {
        "id": "8q9njTL1KhwZ",
        "colab_type": "code",
        "colab": {}
      },
      "cell_type": "code",
      "source": [
        "from google.colab import drive\n",
        "drive.mount('/content/gdrive')"
      ],
      "execution_count": 0,
      "outputs": []
    },
    {
      "metadata": {
        "id": "joCnqT5iMXU1",
        "colab_type": "text"
      },
      "cell_type": "markdown",
      "source": [
        "**List Directory**"
      ]
    },
    {
      "metadata": {
        "id": "NovkqMU_K5pL",
        "colab_type": "code",
        "colab": {}
      },
      "cell_type": "code",
      "source": [
        "!ls\n"
      ],
      "execution_count": 0,
      "outputs": []
    },
    {
      "metadata": {
        "id": "ovVhDAlbN32m",
        "colab_type": "text"
      },
      "cell_type": "markdown",
      "source": [
        "***Change Directory***"
      ]
    },
    {
      "metadata": {
        "id": "FCYyymWqM2mk",
        "colab_type": "code",
        "colab": {}
      },
      "cell_type": "code",
      "source": [
        "import os\n",
        "os.chdir(\"/content/gdrive/My Drive/path\")"
      ],
      "execution_count": 0,
      "outputs": []
    },
    {
      "metadata": {
        "id": "jkdDJfZySIA3",
        "colab_type": "text"
      },
      "cell_type": "markdown",
      "source": [
        "**Install Libraries**"
      ]
    },
    {
      "metadata": {
        "id": "OHEmdnA1SMUi",
        "colab_type": "code",
        "colab": {}
      },
      "cell_type": "code",
      "source": [
        "!pip install or !apt-get install to install other libraries.\n"
      ],
      "execution_count": 0,
      "outputs": []
    },
    {
      "metadata": {
        "id": "TS-LiUwnUv7A",
        "colab_type": "text"
      },
      "cell_type": "markdown",
      "source": [
        "**Check available library**"
      ]
    },
    {
      "metadata": {
        "id": "aIVuVwspU_7G",
        "colab_type": "code",
        "colab": {}
      },
      "cell_type": "code",
      "source": [
        "!pip freeze"
      ],
      "execution_count": 0,
      "outputs": []
    },
    {
      "metadata": {
        "id": "z-V0z8STQ1i9",
        "colab_type": "text"
      },
      "cell_type": "markdown",
      "source": [
        "**Run python**"
      ]
    },
    {
      "metadata": {
        "id": "NPlPPbGQMdmf",
        "colab_type": "code",
        "colab": {}
      },
      "cell_type": "code",
      "source": [
        "!python file.py\n"
      ],
      "execution_count": 0,
      "outputs": []
    },
    {
      "metadata": {
        "id": "hMaDPZLtRHKk",
        "colab_type": "text"
      },
      "cell_type": "markdown",
      "source": [
        "**Check Cpu**"
      ]
    },
    {
      "metadata": {
        "id": "_DZXjP3wRMSH",
        "colab_type": "code",
        "colab": {}
      },
      "cell_type": "code",
      "source": [
        "!cat /proc/cpuinfo"
      ],
      "execution_count": 0,
      "outputs": []
    },
    {
      "metadata": {
        "id": "zfRanBw8RQQ-",
        "colab_type": "text"
      },
      "cell_type": "markdown",
      "source": [
        "**Check RAM**"
      ]
    },
    {
      "metadata": {
        "id": "iNuiLKZaRXSe",
        "colab_type": "code",
        "colab": {}
      },
      "cell_type": "code",
      "source": [
        "!cat /proc/meminfo\n"
      ],
      "execution_count": 0,
      "outputs": []
    },
    {
      "metadata": {
        "id": "orBcYFeFRbKa",
        "colab_type": "text"
      },
      "cell_type": "markdown",
      "source": [
        "**Is GPU Working?**"
      ]
    },
    {
      "metadata": {
        "id": "74hCSLE_Rw0M",
        "colab_type": "code",
        "colab": {}
      },
      "cell_type": "code",
      "source": [
        "import tensorflow as tf\n",
        "tf.test.gpu_device_name()"
      ],
      "execution_count": 0,
      "outputs": []
    },
    {
      "metadata": {
        "id": "rRqgUpp4RsB0",
        "colab_type": "text"
      },
      "cell_type": "markdown",
      "source": [
        "**Which GPU Am I Using?**"
      ]
    },
    {
      "metadata": {
        "id": "SqVsPeT4R4-E",
        "colab_type": "code",
        "colab": {}
      },
      "cell_type": "code",
      "source": [
        "from tensorflow.python.client import device_lib\n",
        "device_lib.list_local_devices()"
      ],
      "execution_count": 0,
      "outputs": []
    }
  ]
}